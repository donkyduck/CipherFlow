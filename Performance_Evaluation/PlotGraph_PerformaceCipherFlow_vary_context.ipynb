{
  "nbformat": 4,
  "nbformat_minor": 0,
  "metadata": {
    "colab": {
      "provenance": [],
      "collapsed_sections": []
    },
    "kernelspec": {
      "name": "python3",
      "display_name": "Python 3"
    },
    "language_info": {
      "name": "python"
    }
  },
  "cells": [
    {
      "cell_type": "markdown",
      "source": [
        "## Clean data from CSV file to dataframe and Plot a Graph"
      ],
      "metadata": {
        "id": "VPLK4QoNlacJ"
      }
    },
    {
      "cell_type": "code",
      "execution_count": null,
      "metadata": {
        "id": "3yKg33lYlI_1",
        "colab": {
          "base_uri": "https://localhost:8080/"
        },
        "outputId": "d8f14e66-a855-4797-83d0-a1a67cbf292a"
      },
      "outputs": [
        {
          "output_type": "stream",
          "name": "stdout",
          "text": [
            "Looking in indexes: https://pypi.org/simple, https://us-python.pkg.dev/colab-wheels/public/simple/\n",
            "Collecting mplcursors\n",
            "  Downloading mplcursors-0.5.1.tar.gz (88 kB)\n",
            "\u001b[?25l\r\u001b[K     |███▊                            | 10 kB 21.6 MB/s eta 0:00:01\r\u001b[K     |███████▍                        | 20 kB 31.8 MB/s eta 0:00:01\r\u001b[K     |███████████▏                    | 30 kB 40.5 MB/s eta 0:00:01\r\u001b[K     |██████████████▉                 | 40 kB 32.2 MB/s eta 0:00:01\r\u001b[K     |██████████████████▋             | 51 kB 36.7 MB/s eta 0:00:01\r\u001b[K     |██████████████████████▎         | 61 kB 41.9 MB/s eta 0:00:01\r\u001b[K     |██████████████████████████      | 71 kB 29.8 MB/s eta 0:00:01\r\u001b[K     |█████████████████████████████▊  | 81 kB 30.6 MB/s eta 0:00:01\r\u001b[K     |████████████████████████████████| 88 kB 8.1 MB/s \n",
            "\u001b[?25hRequirement already satisfied: matplotlib>=3.1 in /usr/local/lib/python3.7/dist-packages (from mplcursors) (3.2.2)\n",
            "Requirement already satisfied: python-dateutil>=2.1 in /usr/local/lib/python3.7/dist-packages (from matplotlib>=3.1->mplcursors) (2.8.2)\n",
            "Requirement already satisfied: pyparsing!=2.0.4,!=2.1.2,!=2.1.6,>=2.0.1 in /usr/local/lib/python3.7/dist-packages (from matplotlib>=3.1->mplcursors) (3.0.9)\n",
            "Requirement already satisfied: numpy>=1.11 in /usr/local/lib/python3.7/dist-packages (from matplotlib>=3.1->mplcursors) (1.21.6)\n",
            "Requirement already satisfied: cycler>=0.10 in /usr/local/lib/python3.7/dist-packages (from matplotlib>=3.1->mplcursors) (0.11.0)\n",
            "Requirement already satisfied: kiwisolver>=1.0.1 in /usr/local/lib/python3.7/dist-packages (from matplotlib>=3.1->mplcursors) (1.4.4)\n",
            "Requirement already satisfied: typing-extensions in /usr/local/lib/python3.7/dist-packages (from kiwisolver>=1.0.1->matplotlib>=3.1->mplcursors) (4.1.1)\n",
            "Requirement already satisfied: six>=1.5 in /usr/local/lib/python3.7/dist-packages (from python-dateutil>=2.1->matplotlib>=3.1->mplcursors) (1.15.0)\n",
            "Building wheels for collected packages: mplcursors\n",
            "  Building wheel for mplcursors (setup.py) ... \u001b[?25l\u001b[?25hdone\n",
            "  Created wheel for mplcursors: filename=mplcursors-0.5.1-py3-none-any.whl size=20820 sha256=8aa2abc4e2c065d2cc46ce81e3be0877820f42d9eab0bc5800fd93c1630a23ca\n",
            "  Stored in directory: /root/.cache/pip/wheels/ae/cd/13/09fe660e3e9d392c7e9b46f202369cd9c2b8dddfb47d5950ef\n",
            "Successfully built mplcursors\n",
            "Installing collected packages: mplcursors\n",
            "Successfully installed mplcursors-0.5.1\n"
          ]
        }
      ],
      "source": [
        "import numpy as np\n",
        "import pandas as pd\n",
        "import matplotlib.pyplot as plt\n",
        "import requests\n",
        "import io\n",
        "!pip install mplcursors\n",
        "import mplcursors"
      ]
    },
    {
      "cell_type": "markdown",
      "source": [
        "## RUN BELOW CODE TO AUTH AND CONNECT TO GOOGLE DRIVE"
      ],
      "metadata": {
        "id": "-hcrsbXwbqMN"
      }
    },
    {
      "cell_type": "code",
      "source": [
        "# from google.colab import drive\n",
        "# drive.mount('/content/drive', force_remount=True)"
      ],
      "metadata": {
        "id": "0QmSZuK_btui"
      },
      "execution_count": null,
      "outputs": []
    },
    {
      "cell_type": "markdown",
      "source": [
        "## Plot a results from CSV files \n",
        "# - Input a filename that you want to clean data"
      ],
      "metadata": {
        "id": "CGsVV-Wpliny"
      }
    },
    {
      "cell_type": "code",
      "source": [
        "\n",
        "\n",
        "def getDatafromTxT(filename):\n",
        "    \"\"\"\n",
        "    Get dataframe from txt file:\n",
        "    filename : xxx.csv\n",
        "    headerrange : number of lines that needed to be removed. \n",
        "    \n",
        "    return : df : datafame type\n",
        "    \"\"\"\n",
        "    skip_1 = 0\n",
        "    df = pd.read_csv(filename,\n",
        "        skiprows=skip_1,\n",
        "        header=None,\n",
        "        delimiter=',',\n",
        "        skipinitialspace=True,\n",
        "        error_bad_lines=False)\n",
        "    return df"
      ],
      "metadata": {
        "id": "BWdRWAzHmCeL"
      },
      "execution_count": null,
      "outputs": []
    },
    {
      "cell_type": "markdown",
      "source": [
        "## Run read data from a CSV File to a Dataframe "
      ],
      "metadata": {
        "id": "jc_3cZP4odXh"
      }
    },
    {
      "cell_type": "code",
      "source": [
        "# n = 2 ** 14\n",
        "# q = [60, 40, 40, 40, 40, 40, 40, 60]\n",
        "# scale = 40\n",
        "\n",
        "drive_path = \"https://drive.google.com/uc?id=17DwMI00pXR0LLNkkg8wqkTLNF4Gxdk_6\"\n",
        "df1 = getDatafromTxT(drive_path)\n",
        "df1 = df1.drop([0,1])\n",
        "df1.rename({0 :'Input', 1 : 'Normal_error', 2 :'CKKS_error'}, axis=1, inplace=True)\n",
        "# df1.rename({0 :'Input', 1 : 'CKKS_error'}, axis=1, inplace=True)\n",
        "print(df1)"
      ],
      "metadata": {
        "colab": {
          "base_uri": "https://localhost:8080/"
        },
        "id": "s3hTGsfvorBs",
        "outputId": "bafba5ef-3ff8-4571-99bc-396fde2ef12a"
      },
      "execution_count": null,
      "outputs": [
        {
          "output_type": "stream",
          "name": "stderr",
          "text": [
            "/usr/local/lib/python3.7/dist-packages/ipykernel_launcher.py:6: FutureWarning: The error_bad_lines argument has been deprecated and will be removed in a future version.\n",
            "\n",
            "\n",
            "  \n"
          ]
        },
        {
          "output_type": "stream",
          "name": "stdout",
          "text": [
            "        Input       Normal_error          CKKS_error\n",
            "2        1.22  99.61031361914483   99.61029887732508\n",
            "3        2.44  99.22205123031037    99.2220228879601\n",
            "4        3.66  98.83520797566445   98.83516423480125\n",
            "5        4.88  98.44977901276698   98.44972109782294\n",
            "6         6.1  98.06575951452497   98.06568529644221\n",
            "...       ...                ...                 ...\n",
            "8188  9995.12   98.4497790127672   98.45161116180967\n",
            "8189  9996.34  98.83520797566453   98.84166902888732\n",
            "8190  9997.56   99.2220512303103   99.22770922305104\n",
            "8191  9998.78  99.61031361914497   99.61470640614829\n",
            "8192    10000                100  100.00476482217545\n",
            "\n",
            "[8191 rows x 3 columns]\n"
          ]
        }
      ]
    },
    {
      "cell_type": "markdown",
      "source": [],
      "metadata": {
        "id": "JLcIaMtUPHsY"
      }
    },
    {
      "cell_type": "code",
      "source": [
        "# n = 2 ** 14\n",
        "# q = [60, 35, 35, 35, 35, 35, 35, 60]\n",
        "# scale = 35\n",
        "\n",
        "drive_path = \"https://drive.google.com/uc?id=18thhRiiCKhjoLFkHD9BllCltj-upK4DC\"\n",
        "df2 = getDatafromTxT(drive_path)\n",
        "df2 = df2.drop([0,1])\n",
        "df2.rename({0 :'Input', 1 : 'Normal_error', 2 :'CKKS_error'}, axis=1, inplace=True)\n",
        "# df1.rename({0 :'Input', 1 : 'CKKS_error'}, axis=1, inplace=True)\n",
        "print(df2)"
      ],
      "metadata": {
        "colab": {
          "base_uri": "https://localhost:8080/"
        },
        "id": "eHhaG9q7E_K4",
        "outputId": "2309ead9-00a5-48d0-c311-d599c202b4ad"
      },
      "execution_count": null,
      "outputs": [
        {
          "output_type": "stream",
          "name": "stderr",
          "text": [
            "/usr/local/lib/python3.7/dist-packages/ipykernel_launcher.py:6: FutureWarning: The error_bad_lines argument has been deprecated and will be removed in a future version.\n",
            "\n",
            "\n",
            "  \n"
          ]
        },
        {
          "output_type": "stream",
          "name": "stdout",
          "text": [
            "        Input       Normal_error         CKKS_error\n",
            "2        1.22  99.61031361914483  99.61016329383214\n",
            "3        2.44  99.22205123031037  99.22178845546334\n",
            "4        3.66  98.83520797566445  98.83480546717695\n",
            "5        4.88  98.44977901276698  98.44931522919728\n",
            "6         6.1  98.06575951452497  98.06512970092783\n",
            "...       ...                ...                ...\n",
            "8188  9995.12   98.4497790127672  98.49911595477626\n",
            "8189  9996.34  98.83520797566453  98.89008964162052\n",
            "8190  9997.56   99.2220512303103  99.21303774161154\n",
            "8191  9998.78  99.61031361914497  99.63700197439648\n",
            "8192    10000                100  100.0240755438139\n",
            "\n",
            "[8191 rows x 3 columns]\n"
          ]
        }
      ]
    },
    {
      "cell_type": "code",
      "source": [
        "# n = 2 ** 14\n",
        "# q = [60, 30, 30, 30, 30, 30, 30, 60]\n",
        "# scale = 30\n",
        "\n",
        "drive_path = \"https://drive.google.com/uc?id=1IQ9T2eE7p1QWA-en8p6MGHinyd5FlmCw\" #D = 5\n",
        "df3 = getDatafromTxT(drive_path)\n",
        "df3 = df3.drop([0,1])\n",
        "df3.rename({0 :'Input', 1 : 'Normal_error', 2 :'CKKS_error'}, axis=1, inplace=True)\n",
        "# df1.rename({0 :'Input', 1 : 'CKKS_error'}, axis=1, inplace=True)\n",
        "print(df3)"
      ],
      "metadata": {
        "colab": {
          "base_uri": "https://localhost:8080/"
        },
        "id": "UVkxsDTlE-33",
        "outputId": "73262784-ede1-4d23-a272-4753c808450e"
      },
      "execution_count": null,
      "outputs": [
        {
          "output_type": "stream",
          "name": "stderr",
          "text": [
            "/usr/local/lib/python3.7/dist-packages/ipykernel_launcher.py:6: FutureWarning: The error_bad_lines argument has been deprecated and will be removed in a future version.\n",
            "\n",
            "\n",
            "  \n"
          ]
        },
        {
          "output_type": "stream",
          "name": "stdout",
          "text": [
            "        Input       Normal_error         CKKS_error\n",
            "2        1.22  99.61031361914483  99.60838148468875\n",
            "3        2.44  99.22205123031037  99.21972066187918\n",
            "4        3.66  98.83520797566445  98.82905721008409\n",
            "5        4.88  98.44977901276698  98.44102141306288\n",
            "6         6.1  98.06575951452497   98.0559343401592\n",
            "...       ...                ...                ...\n",
            "8188  9995.12   98.4497790127672  96.88486124882802\n",
            "8189  9996.34  98.83520797566453   98.5188196039702\n",
            "8190  9997.56   99.2220512303103  94.00616743044317\n",
            "8191  9998.78  99.61031361914497  100.4058084851075\n",
            "8192    10000                100   99.1709082627141\n",
            "\n",
            "[8191 rows x 3 columns]\n"
          ]
        }
      ]
    },
    {
      "cell_type": "code",
      "source": [
        "## Find the Bound\n",
        "\n",
        "def find_errorTH(df, Thr):\n",
        "  ## find the indices of the max and min thresholds of df\n",
        "  '''\n",
        "    df : numeric type\n",
        "  '''\n",
        "  #print(Thr)\n",
        "  df1_temp = df\n",
        "  df1_temp.values.tolist()\n",
        "  print(df1_temp)\n",
        "  g = [i for i, e in enumerate(df1_temp) if e < Thr]\n",
        "  max_index = max(g) + 1 ## +1 : add header index\n",
        "  min_index = min(g) + 1 ## =1 : add header index\n",
        "  return max_index, min_index\n"
      ],
      "metadata": {
        "id": "pdABA-u9ASkq"
      },
      "execution_count": null,
      "outputs": []
    },
    {
      "cell_type": "code",
      "source": [
        "def find_errBound(df, Thr):\n",
        "  ## find the indices of the max and min thresholds of df\n",
        "  '''\n",
        "    df : numeric type\n",
        "  '''\n",
        "  print('Thr =', Thr)\n",
        "  df1_temp = df\n",
        "  df1_temp.values.tolist()\n",
        "  #print(df1_temp)\n",
        "  g = [i for i, e in enumerate(df1_temp) if e <= Thr]\n",
        "  i = 1\n",
        "  b = g[0]\n",
        "  print('len(g) = ',len(g))\n",
        "  print('g = ', g)\n",
        "  while i < len(g):\n",
        "    if g[i] - g[i-1] == 1:\n",
        "      b = g[i]\n",
        "      i = i +1\n",
        "    else:\n",
        "      i = len(g) + 1 # break\n",
        "  max_index = b + 1 ## +1 : add header index\n",
        "  min_index = g[0] + 1 ## =1 : add header index\n",
        "  return max_index, min_index"
      ],
      "metadata": {
        "id": "qeG6GSlzxdbj"
      },
      "execution_count": null,
      "outputs": []
    },
    {
      "cell_type": "code",
      "source": [
        "def find_errRengeBound(df, Thr):\n",
        "  ## find the indices of the max and min thresholds of df\n",
        "  '''\n",
        "    df : numeric type\n",
        "    Thr: Threshold\n",
        "  '''\n",
        "  print('Thr =', Thr)\n",
        "  df1_temp = df\n",
        "  df1_temp.values.tolist()\n",
        "  #print(df1_temp)\n",
        "  g = [i for i, e in enumerate(df1_temp) if e <= Thr]\n",
        "  i = 1\n",
        "  b = g[0]\n",
        "  B_max = 0\n",
        "  B_min = b\n",
        "  Ren = 0\n",
        "  while i < len(g):\n",
        "    if g[i] - g[i-1] == 1:  \n",
        "      b = g[i]\n",
        "      B_max = b\n",
        "    else:\n",
        "      if Ren < B_max - B_min:\n",
        "        Ren = B_max - B_min\n",
        "        print(\"Ren = \",Ren)\n",
        "        b_min = B_min\n",
        "        b_max  = B_max\n",
        "        print('b_min = ',b_min)\n",
        "        print('b_min = ',b_max)\n",
        "      B_min = b\n",
        "      B_max = b\n",
        "    i = i +1\n",
        "  min_index = b_min + 1 ## +1 : add header index\n",
        "  max_index = b_max + 1 ## =1 : add header index\n",
        "  return max_index, min_index"
      ],
      "metadata": {
        "id": "QcA1Vj-KD6PN"
      },
      "execution_count": null,
      "outputs": []
    },
    {
      "cell_type": "markdown",
      "source": [
        "## Analyse the threshold of errors.\n",
        " - th_err should less than 0.01 (digits) representing 0.1%\n",
        " - Thus, we let th_err = 0.1\n",
        "## Plot the vertical line at the first value that < 0.1%"
      ],
      "metadata": {
        "id": "GueU2X-OWYn5"
      }
    },
    {
      "cell_type": "code",
      "source": [
        "df1['Input'] = pd.to_numeric(df1['Input'])\n",
        "df1['Normal_error']  = pd.to_numeric(df1['Normal_error']) \n",
        "df1['CKKS_error'] = pd.to_numeric(df1['CKKS_error']) \n",
        "\n",
        "Thr_1 = 0.1 # maximum value of the acceptable value\n",
        "\n",
        "#max_id_1, min_id_1 = find_errorTH(df1['CKKS_error'], Thr)\n",
        "#max_b_1, min_b_1 = find_errBound(df1['CKKS_error'], Thr_1)\n",
        "max_b_1, min_b_1 = find_errRengeBound(df1['CKKS_error'], Thr_1)\n",
        "#print(df1['CKKS_error'][max_id_1])\n",
        "#print(df1['Input'][max_id_1])\n",
        "print(df1['CKKS_error'][max_b_1])\n",
        "print(df1['CKKS_error'][min_b_1])\n",
        "print('max bound =',df1['Input'][max_b_1]) # max bound \n",
        "print('min bound =',df1['Input'][min_b_1]) # min bound\n"
      ],
      "metadata": {
        "colab": {
          "base_uri": "https://localhost:8080/"
        },
        "id": "kn0UwG1xAaII",
        "outputId": "97e3d5d8-3ea5-470b-81f8-620ec9a05dd4"
      },
      "execution_count": null,
      "outputs": [
        {
          "output_type": "stream",
          "name": "stdout",
          "text": [
            "Thr = 0.1\n",
            "Ren =  5324\n",
            "b_min =  1432\n",
            "b_min =  6756\n",
            "0.0996642404798455\n",
            "0.1005132416987672\n",
            "max bound = 8248.08\n",
            "min bound = 1748.26\n"
          ]
        }
      ]
    },
    {
      "cell_type": "code",
      "source": [
        "df2['Input'] = pd.to_numeric(df2['Input'])\n",
        "df2['Normal_error']  = pd.to_numeric(df2['Normal_error']) \n",
        "df2['CKKS_error'] = pd.to_numeric(df2['CKKS_error']) \n",
        "\n",
        "Thr_2 = 0.1 # maximum value of the acceptable value\n",
        "\n",
        "#max_id_2, min_id_2 = find_errorTH(df2['CKKS_error'], Thr_2)\n",
        "#max_b_2, min_b_2 = find_errBound(df2['CKKS_error'], Thr_2)\n",
        "max_b_2, min_b_2 = find_errRengeBound(df2['CKKS_error'], Thr_2)\n",
        "\n",
        "print(df1['CKKS_error'][max_b_2])\n",
        "print('max bound =',df2['Input'][max_b_2]) # max bound \n",
        "print('min bound =',df2['Input'][min_b_2]) # min bound"
      ],
      "metadata": {
        "colab": {
          "base_uri": "https://localhost:8080/"
        },
        "id": "5AVVVm_PGJ3o",
        "outputId": "809ab34f-c7aa-4645-9621-ca6b05b790e0"
      },
      "execution_count": null,
      "outputs": [
        {
          "output_type": "stream",
          "name": "stdout",
          "text": [
            "Thr = 0.1\n",
            "Ren =  20\n",
            "b_min =  1375\n",
            "b_min =  1395\n",
            "Ren =  22\n",
            "b_min =  1400\n",
            "b_min =  1422\n",
            "Ren =  673\n",
            "b_min =  1435\n",
            "b_min =  2108\n",
            "0.0006696891230977\n",
            "max bound = 2573.56\n",
            "min bound = 1751.92\n"
          ]
        }
      ]
    },
    {
      "cell_type": "code",
      "source": [
        "df3['Input'] = pd.to_numeric(df3['Input'])\n",
        "df3['Normal_error']  = pd.to_numeric(df3['Normal_error']) \n",
        "df3['CKKS_error'] = pd.to_numeric(df3['CKKS_error']) \n",
        "\n",
        "Thr_3 = 5 # maximum value of the acceptable value\n",
        "\n",
        "#max_id_3, min_id_3 = find_errorTH(df3['CKKS_error'], Thr_3)\n",
        "#max_b_3, min_b_3 = find_errBound(df3['CKKS_error'], Thr_3)\n",
        "max_b_3, min_b_3 = find_errRengeBound(df3['CKKS_error'], Thr_3)\n",
        "\n",
        "print(df3['CKKS_error'][max_b_3])\n",
        "print('max bound =',df3['Input'][max_b_3]) # max bound \n",
        "print('min bound =',df3['Input'][min_b_3]) # min bound"
      ],
      "metadata": {
        "colab": {
          "base_uri": "https://localhost:8080/"
        },
        "id": "Q4nxbebSGJqX",
        "outputId": "b43e5464-a26d-4ed5-dfbc-c9f5504111ca"
      },
      "execution_count": null,
      "outputs": [
        {
          "output_type": "stream",
          "name": "stdout",
          "text": [
            "Thr = 5\n",
            "Ren =  15\n",
            "b_min =  669\n",
            "b_min =  684\n",
            "Ren =  2265\n",
            "b_min =  684\n",
            "b_min =  2949\n",
            "0.1308105740069794\n",
            "max bound = 3600.29\n",
            "min bound = 835.06\n"
          ]
        }
      ]
    },
    {
      "cell_type": "code",
      "source": [
        "## Plot graph # DF1\n",
        "# n = 2 ** 14\n",
        "# q = [60, 40, 40, 40, 40, 40, 40, 60]\n",
        "# scale = 40\n",
        "ax = plt.gca()\n",
        "df1.plot(kind='line',style='b-', x='Input', y='Normal_error', ax =ax)\n",
        "df1.plot(kind='line',style='r--', x='Input', y='CKKS_error', ax =ax)\n",
        "plt.legend([\"Unencrypted\", \"CKKS\"], fontsize=14);\n",
        "ax.set_xlabel(\"Input $x$\",fontsize=14)\n",
        "ax.set_ylabel(\"Percentage Error (%)\", fontsize=14)\n",
        "\n",
        "plt.axvline(x = df1['Input'][max_b_1], ymin = 0, ymax = 100, color = 'g', linestyle = '-.')\n",
        "plt.axvline(x = df1['Input'][min_b_1], ymin = 0, ymax = 100, color = 'g', linestyle = '--')\n",
        "\n",
        "plt.legend([\"Unencrypted\", \"CKKS\", \"min-Thr: \" + str(Thr_1) + \"%\",\"max-Thr: \" + str(Thr_1) + \"%\"], fontsize=14);\n",
        "ax.annotate(\"x = \"+ str(df1['Input'][min_b_1]), xy=(df1['Input'][min_b_1], Thr_1), xytext=(df1['Input'][min_b_1]*2, Thr_1*60),\n",
        "            arrowprops=dict(facecolor='black', shrink=0.02),fontsize=14)\n",
        "ax.annotate(\"x = \"+ str(df1['Input'][max_b_1]), xy=(df1['Input'][max_b_1], Thr_1), xytext=(df1['Input'][max_b_1]*0.6, Thr_1*200),\n",
        "            arrowprops=dict(facecolor='black', shrink=0.02),fontsize=14)\n",
        "\n",
        "plt.show()"
      ],
      "metadata": {
        "id": "LAOHn61X7vCF",
        "colab": {
          "base_uri": "https://localhost:8080/",
          "height": 286
        },
        "outputId": "692f6cb2-7327-4d67-b0b0-3258171be0e4"
      },
      "execution_count": null,
      "outputs": [
        {
          "output_type": "display_data",
          "data": {
            "text/plain": [
              "<Figure size 432x288 with 1 Axes>"
            ],
            "image/png": "[encoded data removed]"
          },
          "metadata": {
            "needs_background": "light"
          }
        }
      ]
    },
    {
      "cell_type": "code",
      "source": [
        "# n = 2 ** 14\n",
        "# q = [60, 35, 35, 35, 35, 35, 35, 60]\n",
        "# scale = 35\n",
        "ax = plt.gca()\n",
        "df2.plot(kind='line',style='b-', x='Input', y='Normal_error', ax =ax)\n",
        "df2.plot(kind='line',style='r--', x='Input', y='CKKS_error', ax =ax)\n",
        "plt.legend([\"Unencrypted\", \"CKKS\"], fontsize=14);\n",
        "ax.set_xlabel(\"Input $x$\",fontsize=14)\n",
        "ax.set_ylabel(\"Percentage Error (%)\", fontsize=14)\n",
        "\n",
        "plt.axvline(x = df2['Input'][max_b_2], ymin = 0, ymax = 100, color = 'g', linestyle = '-.')\n",
        "plt.axvline(x = df2['Input'][min_b_2], ymin = 0, ymax = 100, color = 'g', linestyle = '--')\n",
        "\n",
        "plt.legend([\"Unencrypted\", \"CKKS\", \"min-Thr: \" + str(Thr_2) + \"%\",\"max-Thr: \" + str(Thr_2) + \"%\"], fontsize=14);\n",
        "ax.annotate(\"x = \"+ str(df2['Input'][min_b_2]), xy=(df2['Input'][min_b_2], Thr_2), xytext=(df2['Input'][min_b_2]- 2000, Thr_2*250),\n",
        "            arrowprops=dict(facecolor='black', shrink=0.02),fontsize=14)\n",
        "ax.annotate(\"x = \"+ str(df2['Input'][max_b_2]), xy=(df2['Input'][max_b_2], Thr_2), xytext=(df2['Input'][max_b_2]*2, Thr_2*400),\n",
        "            arrowprops=dict(facecolor='black', shrink=0.02),fontsize=14)\n",
        "\n",
        "plt.show()"
      ],
      "metadata": {
        "colab": {
          "base_uri": "https://localhost:8080/",
          "height": 286
        },
        "id": "PqUXXETSGXiX",
        "outputId": "642c22fd-7786-4382-c647-117c28607cb4"
      },
      "execution_count": null,
      "outputs": [
        {
          "output_type": "display_data",
          "data": {
            "text/plain": [
              "<Figure size 432x288 with 1 Axes>"
            ],
            "image/png": "[encoded data removed]"
          },
          "metadata": {
            "needs_background": "light"
          }
        }
      ]
    },
    {
      "cell_type": "code",
      "source": [
        "# n = 2 ** 14\n",
        "# q = [60, 30, 30, 30, 30, 30, 30, 60]\n",
        "# scale = 30\n",
        "ax = plt.gca()\n",
        "df3.plot(kind='line',style='b-', x='Input', y='Normal_error', ax =ax)\n",
        "df3.plot(kind='line',style='r--', x='Input', y='CKKS_error', ax =ax)\n",
        "plt.legend([\"Unencrypted\", \"CKKS\"], fontsize=14);\n",
        "ax.set_xlabel(\"Input $x$\",fontsize=14)\n",
        "ax.set_ylabel(\"Percentage Error (%)\", fontsize=14)\n",
        "\n",
        "plt.axvline(x = df3['Input'][max_b_3], ymin = 0, ymax = 100, color = 'g', linestyle = '-.')\n",
        "plt.axvline(x = df3['Input'][min_b_3], ymin = 0, ymax = 100, color = 'g', linestyle = '--')\n",
        "plt.axhline(y = Thr_3, color =\"black\", linestyle =\"--\")\n",
        "\n",
        "plt.legend([\"Unencrypted\", \"CKKS\", \"min-Thr: \" + str(Thr_3) + \n",
        "            \"%\",\"max-Thr: \" + str(Thr_3) + \"%\"], fontsize=14);\n",
        "\n",
        "plt.xlim(0)\n",
        "mplcursors.cursor(hover=True)\n",
        "Ren_bound = df3['Input'][max_b_3] - df3['Input'][min_b_3]\n",
        "\n",
        "#ax.text(df3['Input'][min_b_3], Thr_3*3, r'Threshold' + str(Thr_3), fontsize=14)\n",
        "ax.annotate(\"x = \"+ str(df3['Input'][min_b_3]), xy=(df3['Input'][min_b_3], Thr_3), xytext=(df3['Input'][min_b_3]*2, Thr_3*5),\n",
        "            arrowprops=dict(facecolor='black', shrink=0.02),fontsize=14)\n",
        "ax.annotate(\"x = \"+ str(df3['Input'][max_b_3]), xy=(df3['Input'][max_b_3], Thr_3), xytext=(df3['Input'][max_b_3]*1.5, Thr_3*5),\n",
        "            arrowprops=dict(facecolor='black', shrink=0.02),fontsize=14)\n",
        "\n",
        "plt.show()"
      ],
      "metadata": {
        "colab": {
          "base_uri": "https://localhost:8080/",
          "height": 286
        },
        "id": "OLKQYRa-GXYO",
        "outputId": "594710dc-b25b-4fd4-9af0-fd77691e525f"
      },
      "execution_count": null,
      "outputs": [
        {
          "output_type": "display_data",
          "data": {
            "text/plain": [
              "<Figure size 432x288 with 1 Axes>"
            ],
            "image/png": "[encoded data removed]"
          },
          "metadata": {
            "needs_background": "light"
          }
        }
      ]
    }
  ]
}